{
 "cells": [
  {
   "cell_type": "code",
   "execution_count": 2,
   "metadata": {},
   "outputs": [
    {
     "name": "stdout",
     "output_type": "stream",
     "text": [
      "接收成功\n"
     ]
    }
   ],
   "source": [
    "import socket\n",
    "\n",
    "sock = socket.socket(socket.AF_INET, socket.SOCK_STREAM)\n",
    "# Connect the socket to the port where the server is listening\n",
    "server_address = ('192.168.43.207', 6666)\n",
    "while(){\n",
    "    sock.connect(server_address)\n",
    "    try:\n",
    "        message ='This is the message.  It will be repeated'.encode('utf-8')\n",
    "        sock.send(message)\n",
    "\n",
    "        data =sock.recv(1024)\n",
    "        print(data.decode('utf-8'))\n",
    "    except:\n",
    "        print(\"no send\")\n",
    "    \n",
    "}\n"
   ]
  },
  {
   "cell_type": "code",
   "execution_count": 17,
   "metadata": {},
   "outputs": [
    {
     "name": "stdout",
     "output_type": "stream",
     "text": [
      "(array([69, 69, 70, 70, 70, 70, 70, 71, 71, 71, 71, 71, 71, 72, 72, 72, 72,\n",
      "       72, 72, 72, 73, 73, 73, 73, 73, 73, 73, 73, 74, 74, 74, 74, 74, 74,\n",
      "       74, 74, 75, 75, 75, 75, 75, 75, 75, 75, 75, 76, 76, 76, 76, 76, 76,\n",
      "       76, 76, 76, 77, 77, 77, 77, 77, 77, 77, 77, 77, 78, 78, 78, 78, 78,\n",
      "       78, 78, 79, 79, 79, 79, 79, 79, 79, 80, 80, 80, 80, 80],\n",
      "      dtype=int64), array([115, 116, 113, 114, 115, 116, 117, 112, 113, 114, 115, 116, 117,\n",
      "       112, 113, 114, 115, 116, 117, 118, 111, 112, 113, 114, 115, 116,\n",
      "       117, 118, 111, 112, 113, 114, 115, 116, 117, 118, 110, 111, 112,\n",
      "       113, 114, 115, 116, 117, 118, 110, 111, 112, 113, 114, 115, 116,\n",
      "       117, 118, 110, 111, 112, 113, 114, 115, 116, 117, 118, 111, 112,\n",
      "       113, 114, 115, 116, 117, 111, 112, 113, 114, 115, 116, 117, 112,\n",
      "       113, 114, 115, 116], dtype=int64))\n"
     ]
    }
   ],
   "source": [
    "import numpy as np\n",
    "import cv2\n",
    "\n",
    "cat = cv2.imread('cat.jpg')\n",
    "cat_gray = cv2.cvtColor(cat, cv2.COLOR_BGR2GRAY)\n",
    "cat_face=cv2.imread('cat_face.png',0)\n",
    "\n",
    "w, h = cat_face.shape[::-1]\n",
    "'''\n",
    "cv2.imshow('cat', cat)\n",
    "cv2.imshow('cat_gray', cat_gray)\n",
    "cv2.imshow('cat_face', cat_face)\n",
    "cv2.waitKey(0)\n",
    "cv2.destroyAllWindows();'''\n",
    "\n",
    "res = cv2.matchTemplate(cat_gray,cat_face,cv2.TM_CCOEFF_NORMED) \n",
    "#设定阈值 \n",
    "threshold = 0.7 \n",
    "#res大于70% \n",
    "loc = np.where( res >= threshold)\n",
    "print(loc)\n",
    "for pt in zip(*loc[::-1]): \n",
    "    cv2.rectangle(cat, pt, (pt[0] + w, pt[1] + h), (7,249,151), 0) \n",
    "#显示图像 \n",
    "cv2.imshow('Detected',cat) \n",
    "cv2.waitKey(0) \n",
    "cv2.destroyAllWindows()\n"
   ]
  },
  {
   "cell_type": "code",
   "execution_count": null,
   "metadata": {},
   "outputs": [],
   "source": [
    "import numpy as np\n",
    "import cv2\n",
    "vcap = cv2.VideoCapture(\"rtmp://192.168.43.31/rtmp/live\")\n",
    "\n",
    "while(1):\n",
    "    ret, frame = vcap.read()\n",
    "    cv2.imshow('VIDEO', frame)\n",
    "    \n",
    "    if ((cv2.waitKey(10) & 255) == 27) :\n",
    "        break\n",
    "cv2.destroyAllWindows()"
   ]
  },
  {
   "cell_type": "code",
   "execution_count": null,
   "metadata": {},
   "outputs": [],
   "source": [
    "\n",
    "\n"
   ]
  }
 ],
 "metadata": {
  "kernelspec": {
   "display_name": "Python 3",
   "language": "python",
   "name": "python3"
  },
  "language_info": {
   "codemirror_mode": {
    "name": "ipython",
    "version": 3
   },
   "file_extension": ".py",
   "mimetype": "text/x-python",
   "name": "python",
   "nbconvert_exporter": "python",
   "pygments_lexer": "ipython3",
   "version": "3.6.5"
  }
 },
 "nbformat": 4,
 "nbformat_minor": 2
}
